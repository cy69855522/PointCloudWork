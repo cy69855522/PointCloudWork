{
 "cells": [
  {
   "cell_type": "code",
   "execution_count": 1,
   "metadata": {},
   "outputs": [],
   "source": [
    "import torch\n",
    "\n",
    "import argparse\n",
    "import dill\n",
    "import glob\n",
    "import importlib\n",
    "import os\n",
    "import pandas as pd\n",
    "from tqdm import tqdm\n",
    "\n",
    "from criterion import Criterion\n",
    "from data import *\n",
    "from dataset import *\n",
    "from test import initilize_testing_loader, evaluate\n",
    "from utils import parse_config, set_seeds, set_devices, load_pretrained_weight, load_checkpoint"
   ]
  },
  {
   "cell_type": "code",
   "execution_count": 2,
   "metadata": {},
   "outputs": [
    {
     "data": {
      "text/plain": [
       "_StoreAction(option_strings=['--checkpoint_path'], dest='checkpoint_path', nargs=None, const=None, default='best', type=<class 'str'>, choices=None, help='Checkpoint path. \"best\" means the best checkpoint of saved ones.', metavar=None)"
      ]
     },
     "execution_count": 2,
     "metadata": {},
     "output_type": "execute_result"
    }
   ],
   "source": [
    "parser = argparse.ArgumentParser(description='Visualizing')\n",
    "parser.add_argument('--trial', default='shapenet_with_norm.rscnn.0001', type=str,\n",
    "                    help='The trial name with its version, e.g., modelnet40.dgcnn.0001.')\n",
    "parser.add_argument('--show_configs', default=False, type=bool,\n",
    "                    help='Whether to print the config at the program beginning.')\n",
    "parser.add_argument('--show_loss_details', default=False, type=bool,\n",
    "                    help='Whether to show all loss details.')\n",
    "parser.add_argument('--separator_bar', default='*' * 100, type=str,\n",
    "                    help='Separator bar.')\n",
    "parser.add_argument('--max_float_digits', default=4, type=int,\n",
    "                    help='Limit the max digits to display.')\n",
    "parser.add_argument('--pretrained_weight_path', default='', type=str,\n",
    "                    help='The pre-trained weight path.')\n",
    "parser.add_argument('--checkpoint_path', default='best', type=str,\n",
    "                    help='Checkpoint path. \"best\" means the best checkpoint of saved ones.')"
   ]
  },
  {
   "cell_type": "code",
   "execution_count": 3,
   "metadata": {},
   "outputs": [
    {
     "name": "stdout",
     "output_type": "stream",
     "text": [
      "Running on cuda device: Tesla M40 24GB \n",
      "\n",
      "****************************************************************************************************\n",
      "\n",
      "Load the best checkpoint: trial/shapenet_with_norm/rscnn/0001/checkpoints/epoch_42_instance-miou_0.8460.weight\n"
     ]
    },
    {
     "name": "stderr",
     "output_type": "stream",
     "text": [
      "Testing: 100%|██████████| 103/103 [01:57<00:00,  1.14s/it, class miou=0.8138, instance miou=0.8450, mean accuracy=0.9386, mean loss=0.1952]\n"
     ]
    }
   ],
   "source": [
    "args = parser.parse_args(args=[])\n",
    "parse_config(args)\n",
    "\n",
    "    \n",
    "# Dynamically import the model class, Net.\n",
    "model_path = os.path.join(args.trial_dir, 'model')\n",
    "model_package = importlib.import_module(model_path.replace('/', '.'))\n",
    "\n",
    "# Set the environment.\n",
    "set_seeds(args.seed)\n",
    "device = set_devices(args.cuda_devices, args.separator_bar)\n",
    "\n",
    "# Load the dataset.\n",
    "loader = initilize_testing_loader(args)\n",
    "\n",
    "# Set the model.\n",
    "model = model_package.Net(loader.dataset.num_classes(args.task_type),\n",
    "                            **args.net_arguments).to(device)\n",
    "load_pretrained_weight(args.pretrained_weight_path, model, device)\n",
    "load_checkpoint(args.trial_dir, args.checkpoint_path, model, device)\n",
    "\n",
    "criterion = Criterion(args.task_type,\n",
    "                          args.criterion,\n",
    "                          args.show_loss_details,\n",
    "                          args.max_float_digits).to(device)\n",
    "\n",
    "criterion.reset()\n",
    "base_results = evaluate(args, loader, model, device, criterion)\n",
    "base_detils = criterion.all_sample_details"
   ]
  },
  {
   "cell_type": "code",
   "execution_count": 4,
   "metadata": {},
   "outputs": [],
   "source": [
    "if args.task_type == 'segmentation':\n",
    "    for y, ious in criterion.global_dict['y_to_ious'].items():\n",
    "        iou_sum = sum(ious)\n",
    "        base_results[loader.dataset.categories[y]] = iou_sum / len(ious)"
   ]
  },
  {
   "cell_type": "code",
   "execution_count": 5,
   "metadata": {},
   "outputs": [
    {
     "data": {
      "text/html": [
       "<div>\n",
       "<style scoped>\n",
       "    .dataframe tbody tr th:only-of-type {\n",
       "        vertical-align: middle;\n",
       "    }\n",
       "\n",
       "    .dataframe tbody tr th {\n",
       "        vertical-align: top;\n",
       "    }\n",
       "\n",
       "    .dataframe thead th {\n",
       "        text-align: right;\n",
       "    }\n",
       "</style>\n",
       "<table border=\"1\" class=\"dataframe\">\n",
       "  <thead>\n",
       "    <tr style=\"text-align: right;\">\n",
       "      <th></th>\n",
       "      <th>base</th>\n",
       "    </tr>\n",
       "  </thead>\n",
       "  <tbody>\n",
       "    <tr>\n",
       "      <th>Airplane</th>\n",
       "      <td>0.823082</td>\n",
       "    </tr>\n",
       "    <tr>\n",
       "      <th>Bag</th>\n",
       "      <td>0.782171</td>\n",
       "    </tr>\n",
       "    <tr>\n",
       "      <th>Cap</th>\n",
       "      <td>0.827233</td>\n",
       "    </tr>\n",
       "    <tr>\n",
       "      <th>Car</th>\n",
       "      <td>0.770402</td>\n",
       "    </tr>\n",
       "    <tr>\n",
       "      <th>Chair</th>\n",
       "      <td>0.900588</td>\n",
       "    </tr>\n",
       "    <tr>\n",
       "      <th>Earphone</th>\n",
       "      <td>0.763456</td>\n",
       "    </tr>\n",
       "    <tr>\n",
       "      <th>Guitar</th>\n",
       "      <td>0.910805</td>\n",
       "    </tr>\n",
       "    <tr>\n",
       "      <th>Knife</th>\n",
       "      <td>0.853467</td>\n",
       "    </tr>\n",
       "    <tr>\n",
       "      <th>Lamp</th>\n",
       "      <td>0.831992</td>\n",
       "    </tr>\n",
       "    <tr>\n",
       "      <th>Laptop</th>\n",
       "      <td>0.946519</td>\n",
       "    </tr>\n",
       "    <tr>\n",
       "      <th>Motorbike</th>\n",
       "      <td>0.709949</td>\n",
       "    </tr>\n",
       "    <tr>\n",
       "      <th>Mug</th>\n",
       "      <td>0.939004</td>\n",
       "    </tr>\n",
       "    <tr>\n",
       "      <th>Pistol</th>\n",
       "      <td>0.830269</td>\n",
       "    </tr>\n",
       "    <tr>\n",
       "      <th>Rocket</th>\n",
       "      <td>0.569298</td>\n",
       "    </tr>\n",
       "    <tr>\n",
       "      <th>Skateboard</th>\n",
       "      <td>0.745474</td>\n",
       "    </tr>\n",
       "    <tr>\n",
       "      <th>Table</th>\n",
       "      <td>0.817651</td>\n",
       "    </tr>\n",
       "    <tr>\n",
       "      <th>class miou</th>\n",
       "      <td>0.8138</td>\n",
       "    </tr>\n",
       "    <tr>\n",
       "      <th>instance miou</th>\n",
       "      <td>0.8450</td>\n",
       "    </tr>\n",
       "    <tr>\n",
       "      <th>mean accuracy</th>\n",
       "      <td>0.9386</td>\n",
       "    </tr>\n",
       "    <tr>\n",
       "      <th>mean loss</th>\n",
       "      <td>0.1952</td>\n",
       "    </tr>\n",
       "  </tbody>\n",
       "</table>\n",
       "</div>"
      ],
      "text/plain": [
       "                   base\n",
       "Airplane       0.823082\n",
       "Bag            0.782171\n",
       "Cap            0.827233\n",
       "Car            0.770402\n",
       "Chair          0.900588\n",
       "Earphone       0.763456\n",
       "Guitar         0.910805\n",
       "Knife          0.853467\n",
       "Lamp           0.831992\n",
       "Laptop         0.946519\n",
       "Motorbike      0.709949\n",
       "Mug            0.939004\n",
       "Pistol         0.830269\n",
       "Rocket         0.569298\n",
       "Skateboard     0.745474\n",
       "Table          0.817651\n",
       "class miou       0.8138\n",
       "instance miou    0.8450\n",
       "mean accuracy    0.9386\n",
       "mean loss        0.1952"
      ]
     },
     "execution_count": 5,
     "metadata": {},
     "output_type": "execute_result"
    }
   ],
   "source": [
    "comparion_results = {'base' : base_results}\n",
    "\n",
    "pd.DataFrame(comparion_results)"
   ]
  },
  {
   "cell_type": "code",
   "execution_count": 8,
   "metadata": {},
   "outputs": [
    {
     "data": {
      "text/html": [
       "<div>\n",
       "<style scoped>\n",
       "    .dataframe tbody tr th:only-of-type {\n",
       "        vertical-align: middle;\n",
       "    }\n",
       "\n",
       "    .dataframe tbody tr th {\n",
       "        vertical-align: top;\n",
       "    }\n",
       "\n",
       "    .dataframe thead th {\n",
       "        text-align: right;\n",
       "    }\n",
       "</style>\n",
       "<table border=\"1\" class=\"dataframe\">\n",
       "  <thead>\n",
       "    <tr style=\"text-align: right;\">\n",
       "      <th></th>\n",
       "      <th>miou</th>\n",
       "      <th>category</th>\n",
       "    </tr>\n",
       "  </thead>\n",
       "  <tbody>\n",
       "    <tr>\n",
       "      <th>2264</th>\n",
       "      <td>0.969867</td>\n",
       "      <td>Table</td>\n",
       "    </tr>\n",
       "    <tr>\n",
       "      <th>1837</th>\n",
       "      <td>0.979392</td>\n",
       "      <td>Laptop</td>\n",
       "    </tr>\n",
       "    <tr>\n",
       "      <th>2290</th>\n",
       "      <td>0.623915</td>\n",
       "      <td>Table</td>\n",
       "    </tr>\n",
       "    <tr>\n",
       "      <th>900</th>\n",
       "      <td>0.974032</td>\n",
       "      <td>Chair</td>\n",
       "    </tr>\n",
       "    <tr>\n",
       "      <th>2181</th>\n",
       "      <td>0.983069</td>\n",
       "      <td>Table</td>\n",
       "    </tr>\n",
       "    <tr>\n",
       "      <th>...</th>\n",
       "      <td>...</td>\n",
       "      <td>...</td>\n",
       "    </tr>\n",
       "    <tr>\n",
       "      <th>2718</th>\n",
       "      <td>0.951389</td>\n",
       "      <td>Table</td>\n",
       "    </tr>\n",
       "    <tr>\n",
       "      <th>1611</th>\n",
       "      <td>0.857276</td>\n",
       "      <td>Lamp</td>\n",
       "    </tr>\n",
       "    <tr>\n",
       "      <th>832</th>\n",
       "      <td>0.946364</td>\n",
       "      <td>Chair</td>\n",
       "    </tr>\n",
       "    <tr>\n",
       "      <th>824</th>\n",
       "      <td>0.955572</td>\n",
       "      <td>Chair</td>\n",
       "    </tr>\n",
       "    <tr>\n",
       "      <th>2009</th>\n",
       "      <td>0.631167</td>\n",
       "      <td>Skateboard</td>\n",
       "    </tr>\n",
       "  </tbody>\n",
       "</table>\n",
       "<p>2874 rows × 2 columns</p>\n",
       "</div>"
      ],
      "text/plain": [
       "          miou    category\n",
       "2264  0.969867       Table\n",
       "1837  0.979392      Laptop\n",
       "2290  0.623915       Table\n",
       "900   0.974032       Chair\n",
       "2181  0.983069       Table\n",
       "...        ...         ...\n",
       "2718  0.951389       Table\n",
       "1611  0.857276        Lamp\n",
       "832   0.946364       Chair\n",
       "824   0.955572       Chair\n",
       "2009  0.631167  Skateboard\n",
       "\n",
       "[2874 rows x 2 columns]"
      ]
     },
     "execution_count": 8,
     "metadata": {},
     "output_type": "execute_result"
    }
   ],
   "source": [
    "pd.DataFrame(base_detils).T"
   ]
  },
  {
   "cell_type": "code",
   "execution_count": 4,
   "metadata": {},
   "outputs": [
    {
     "name": "stderr",
     "output_type": "stream",
     "text": [
      "No traceback available to show.\n"
     ]
    }
   ],
   "source": [
    "%tb"
   ]
  }
 ],
 "metadata": {
  "interpreter": {
   "hash": "a48f52262c7fc72c1e942604bf23bc978e60224633d890246d87d75d6157b714"
  },
  "kernelspec": {
   "display_name": "Python 3.9.7 ('base')",
   "language": "python",
   "name": "python3"
  },
  "language_info": {
   "codemirror_mode": {
    "name": "ipython",
    "version": 3
   },
   "file_extension": ".py",
   "mimetype": "text/x-python",
   "name": "python",
   "nbconvert_exporter": "python",
   "pygments_lexer": "ipython3",
   "version": "3.9.11"
  },
  "orig_nbformat": 4
 },
 "nbformat": 4,
 "nbformat_minor": 2
}
