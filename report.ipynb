{
 "cells": [
  {
   "cell_type": "code",
   "execution_count": 1,
   "metadata": {},
   "outputs": [],
   "source": [
    "import torch\n",
    "\n",
    "import argparse\n",
    "import dill\n",
    "import glob\n",
    "import importlib\n",
    "import os\n",
    "from tqdm import tqdm\n",
    "\n",
    "from criterion import Criterion\n",
    "from data import *\n",
    "from dataset import *\n",
    "from test import initilize_testing_loader, evaluate\n",
    "from utils import parse_config, set_seeds, set_devices, load_pretrained_weight, load_checkpoint"
   ]
  },
  {
   "cell_type": "code",
   "execution_count": 2,
   "metadata": {},
   "outputs": [
    {
     "data": {
      "text/plain": [
       "_StoreAction(option_strings=['--checkpoint_path'], dest='checkpoint_path', nargs=None, const=None, default='best', type=<class 'str'>, choices=None, help='Checkpoint path. \"best\" means the best checkpoint of saved ones.', metavar=None)"
      ]
     },
     "execution_count": 2,
     "metadata": {},
     "output_type": "execute_result"
    }
   ],
   "source": [
    "parser = argparse.ArgumentParser(description='Visualizing')\n",
    "parser.add_argument('--trial', default='shapenet_with_norm.rscnn.0001', type=str,\n",
    "                    help='The trial name with its version, e.g., modelnet40.dgcnn.0001.')\n",
    "parser.add_argument('--show_configs', default=False, type=bool,\n",
    "                    help='Whether to print the config at the program beginning.')\n",
    "parser.add_argument('--show_loss_details', default=False, type=bool,\n",
    "                    help='Whether to show all loss details.')\n",
    "parser.add_argument('--separator_bar', default='*' * 100, type=str,\n",
    "                    help='Separator bar.')\n",
    "parser.add_argument('--max_float_digits', default=4, type=int,\n",
    "                    help='Limit the max digits to display.')\n",
    "parser.add_argument('--pretrained_weight_path', default='', type=str,\n",
    "                    help='The pre-trained weight path.')\n",
    "parser.add_argument('--checkpoint_path', default='best', type=str,\n",
    "                    help='Checkpoint path. \"best\" means the best checkpoint of saved ones.')"
   ]
  },
  {
   "cell_type": "code",
   "execution_count": null,
   "metadata": {},
   "outputs": [],
   "source": [
    "args = parser.parse_args()\n",
    "parse_config(args)\n",
    "\n",
    "    \n",
    "# Dynamically import the model class, Net.\n",
    "model_path = os.path.join(args.trial_dir, 'model')\n",
    "model_package = importlib.import_module(model_path.replace('/', '.'))\n",
    "\n",
    "# Set the environment.\n",
    "set_seeds(args.seed + args.breakpoint_continuation * random.randint(1, 9e3))\n",
    "device = set_devices(args.cuda_devices, args.separator_bar)\n",
    "\n",
    "# Load the dataset.\n",
    "loader = initilize_testing_loader(args)\n",
    "\n",
    "# Set the model.\n",
    "model = model_package.Net(loader.dataset.num_classes(args.task_type),\n",
    "                            **args.net_arguments).to(device)\n",
    "load_pretrained_weight(args.pretrained_weight_path, model)\n",
    "load_checkpoint(args.trial_dir, args.checkpoint_path, model)\n",
    "\n",
    "criterion = Criterion(args.task_type,\n",
    "                          args.criterion,\n",
    "                          args.show_loss_details,\n",
    "                          args.max_float_digits).to(device)\n",
    "\n",
    "testing_results = evaluate(args, loader, model, device, criterion)\n",
    "all_sample_detils = criterion.all_sample_details\n",
    "criterion.reset()"
   ]
  },
  {
   "cell_type": "code",
   "execution_count": null,
   "metadata": {},
   "outputs": [],
   "source": [
    "all_sample_detils"
   ]
  }
 ],
 "metadata": {
  "interpreter": {
   "hash": "a48f52262c7fc72c1e942604bf23bc978e60224633d890246d87d75d6157b714"
  },
  "kernelspec": {
   "display_name": "Python 3.9.7 ('base')",
   "language": "python",
   "name": "python3"
  },
  "language_info": {
   "codemirror_mode": {
    "name": "ipython",
    "version": 3
   },
   "file_extension": ".py",
   "mimetype": "text/x-python",
   "name": "python",
   "nbconvert_exporter": "python",
   "pygments_lexer": "ipython3",
   "version": "3.9.12"
  },
  "orig_nbformat": 4
 },
 "nbformat": 4,
 "nbformat_minor": 2
}
